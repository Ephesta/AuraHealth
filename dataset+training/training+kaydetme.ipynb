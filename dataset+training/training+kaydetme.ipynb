{
 "cells": [
  {
   "cell_type": "code",
   "execution_count": 2,
   "id": "22872f4f-c819-4808-bd97-9f6f211e01ad",
   "metadata": {},
   "outputs": [
    {
     "name": "stdout",
     "output_type": "stream",
     "text": [
      "Model eğitildi ve kaydedildi.\n",
      " MAE (ortalama): 2.19 °C\n"
     ]
    },
    {
     "name": "stdin",
     "output_type": "stream",
     "text": [
      "İl adı girin (örn: Ankara):  Ankara\n",
      "Tarih girin (GG-AA-YYYY):  09-04-2024\n"
     ]
    },
    {
     "name": "stdout",
     "output_type": "stream",
     "text": [
      "\n",
      "📍 Ankara için 09 April 2024 tahmini:\n",
      "🔺 Maksimum Sıcaklık: 14.3 °C\n",
      "🔻 Minimum Sıcaklık: 5.5 °C\n",
      "🌧️  Yağış Miktarı:     3.7 mm\n",
      "\n"
     ]
    }
   ],
   "source": [
    "import pandas as pd\n",
    "import numpy as np\n",
    "import joblib\n",
    "from sklearn.preprocessing import OneHotEncoder\n",
    "from sklearn.model_selection import train_test_split\n",
    "from sklearn.multioutput import MultiOutputRegressor\n",
    "from xgboost import XGBRegressor\n",
    "from datetime import datetime\n",
    "from sklearn.metrics import mean_absolute_error\n",
    "\n",
    "df = pd.read_csv(\"Veri/tum_veri.csv\")\n",
    "\n",
    "df[\"time\"] = pd.to_datetime(df[\"time\"])\n",
    "df[\"gun\"] = df[\"time\"].dt.day\n",
    "df[\"ay\"] = df[\"time\"].dt.month\n",
    "df[\"hafta_gunu\"] = df[\"time\"].dt.dayofweek\n",
    "\n",
    "df = df.dropna()\n",
    "\n",
    "encoder = OneHotEncoder(sparse_output=False, handle_unknown=\"ignore\")\n",
    "il_encoded = encoder.fit_transform(df[[\"il\"]])\n",
    "il_df = pd.DataFrame(il_encoded, columns=encoder.get_feature_names_out([\"il\"]))\n",
    "il_df.reset_index(drop=True, inplace=True)\n",
    "\n",
    "X = pd.concat([df[[\"gun\", \"ay\", \"hafta_gunu\"]].reset_index(drop=True), il_df], axis=1)\n",
    "y = df[[\"temperature_2m_max\", \"temperature_2m_min\", \"precipitation_sum\"]]\n",
    "\n",
    "X_train, X_test, y_train, y_test = train_test_split(X, y, test_size=0.2, random_state=42)\n",
    "\n",
    "model = MultiOutputRegressor(\n",
    "    XGBRegressor(n_estimators=100, learning_rate=0.1, max_depth=6, random_state=42)\n",
    ")\n",
    "model.fit(X_train, y_train)\n",
    "\n",
    "joblib.dump(model, \"hava_durumu_model.pkl\")\n",
    "joblib.dump(encoder, \"encoder.pkl\")\n",
    "\n",
    "print(\"Model eğitildi ve kaydedildi.\")\n",
    "\n",
    "# --- test için\n",
    "def kullanici_tahmini_al():\n",
    "    il = input(\"İl adı girin (örn: Ankara): \").strip()\n",
    "    tarih = input(\"Tarih girin (GG-AA-YYYY): \").strip()\n",
    "\n",
    "    try:\n",
    "        tarih = datetime.strptime(tarih, \"%d-%m-%Y\")\n",
    "        gun = tarih.day\n",
    "        ay = tarih.month\n",
    "        hafta_gunu = tarih.weekday()\n",
    "\n",
    "        encoder = joblib.load(\"encoder.pkl\")\n",
    "        il_encoded = encoder.transform(pd.DataFrame([[il]], columns=[\"il\"]))\n",
    "        il_df = pd.DataFrame(il_encoded, columns=encoder.get_feature_names_out([\"il\"]))\n",
    "\n",
    "        x_input = pd.concat([pd.DataFrame([[gun, ay, hafta_gunu]], columns=[\"gun\", \"ay\", \"hafta_gunu\"]), il_df], axis=1)\n",
    "\n",
    "        model = joblib.load(\"hava_durumu_model.pkl\")\n",
    "        tahmin = model.predict(x_input)\n",
    "\n",
    "        print(f\"\\n📍 {il} için {tarih.strftime('%d %B %Y')} tahmini:\")\n",
    "        print(f\"🔺 Maksimum Sıcaklık: {tahmin[0][0]:.1f} °C\")\n",
    "        print(f\"🔻 Minimum Sıcaklık: {tahmin[0][1]:.1f} °C\")\n",
    "        print(f\"🌧️  Yağış Miktarı:     {tahmin[0][2]:.1f} mm\\n\")\n",
    "\n",
    "    except Exception as e:\n",
    "        print(f\"Hata: {e}\")\n",
    "\n",
    "y_pred = model.predict(X_test)\n",
    "mae = mean_absolute_error(y_test, y_pred)\n",
    "print(f\" MAE (ortalama): {mae:.2f} °C\")\n",
    "\n",
    "kullanici_tahmini_al()\n"
   ]
  },
  {
   "cell_type": "code",
   "execution_count": null,
   "id": "b3f9cc81-b806-4d5d-b240-575dc329bb56",
   "metadata": {},
   "outputs": [],
   "source": []
  }
 ],
 "metadata": {
  "kernelspec": {
   "display_name": "Python 3 (ipykernel)",
   "language": "python",
   "name": "python3"
  },
  "language_info": {
   "codemirror_mode": {
    "name": "ipython",
    "version": 3
   },
   "file_extension": ".py",
   "mimetype": "text/x-python",
   "name": "python",
   "nbconvert_exporter": "python",
   "pygments_lexer": "ipython3",
   "version": "3.10.13"
  }
 },
 "nbformat": 4,
 "nbformat_minor": 5
}
